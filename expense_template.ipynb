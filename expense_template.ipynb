{
  "nbformat": 4,
  "nbformat_minor": 0,
  "metadata": {
    "colab": {
      "provenance": [],
      "authorship_tag": "ABX9TyNoIxERfLlJcaq35gw0qY0T",
      "include_colab_link": true
    },
    "kernelspec": {
      "name": "python3",
      "display_name": "Python 3"
    },
    "language_info": {
      "name": "python"
    }
  },
  "cells": [
    {
      "cell_type": "markdown",
      "metadata": {
        "id": "view-in-github",
        "colab_type": "text"
      },
      "source": [
        "<a href=\"https://colab.research.google.com/github/AkiChiu/auto_expense_tracking/blob/main/expense_template.ipynb\" target=\"_parent\"><img src=\"https://colab.research.google.com/assets/colab-badge.svg\" alt=\"Open In Colab\"/></a>"
      ]
    },
    {
      "cell_type": "code",
      "execution_count": 1,
      "metadata": {
        "colab": {
          "base_uri": "https://localhost:8080/"
        },
        "id": "k8SA__1fB9Hj",
        "outputId": "4ae0d912-27cc-454c-93e8-5ec94cbe15e1"
      },
      "outputs": [
        {
          "output_type": "stream",
          "name": "stdout",
          "text": [
            "Mounted at /content/drive\n"
          ]
        }
      ],
      "source": [
        "from google.colab import drive\n",
        "drive.mount('/content/drive')"
      ]
    },
    {
      "cell_type": "code",
      "source": [
        "import pandas as pd"
      ],
      "metadata": {
        "id": "NUZI6v8YCeCT"
      },
      "execution_count": null,
      "outputs": []
    },
    {
      "cell_type": "code",
      "source": [
        "import re"
      ],
      "metadata": {
        "id": "CdoG4473Cfb6"
      },
      "execution_count": null,
      "outputs": []
    },
    {
      "cell_type": "code",
      "source": [
        "from google.colab import auth\n",
        "from google.auth import default\n",
        "\n",
        "try:\n",
        "  import gspread\n",
        "except ModuleNotFoundError:\n",
        "  if 'google.colab' in str(get_ipython()):\n",
        "    %pip install gspread\n",
        "  import gspread"
      ],
      "metadata": {
        "id": "oIwniezICgk1"
      },
      "execution_count": null,
      "outputs": []
    },
    {
      "cell_type": "code",
      "source": [
        "from datetime import datetime"
      ],
      "metadata": {
        "id": "pUFaigUnCh_9"
      },
      "execution_count": null,
      "outputs": []
    },
    {
      "cell_type": "code",
      "source": [
        "auth.authenticate_user()\n",
        "creds, _ = default()\n",
        "gc = gspread.authorize(creds)"
      ],
      "metadata": {
        "id": "ZmSIogZRCibX"
      },
      "execution_count": null,
      "outputs": []
    },
    {
      "cell_type": "code",
      "source": [
        "folder_path = '/content/drive/MyDrive/01_Personal/Finance/'\n",
        "\n",
        "def change_sign(x):\n",
        "    return -x\n",
        "\n",
        "def read_account_a(folder_path):\n",
        "    file_path = folder_path + '123.csv' #file name has to be updated\n",
        "    account_a_data = pd.read_csv(file_path)\n",
        "\n",
        "    # change the -/+ sign in amount column\n",
        "    account_a_data['Amount'] = account_a_data['Amount'].apply(change_sign)\n",
        "\n",
        "    # adding and formatting the columns\n",
        "    account_a_data = account_a_data.assign(\n",
        "        Wallet=\"Account A\", #update the Account A to the desired bank account\n",
        "        Item=account_a_data['Description'],\n",
        "        Category=\"\",\n",
        "        Currency=\"GBP\",\n",
        "        Shared=\"\",\n",
        "        Note=\"\"\n",
        "    )\n",
        "\n",
        "    account_a_data['Date'] = pd.to_datetime(account_a_data['Date'], format='%d/%m/%Y').dt.strftime('%Y-%m-%d')\n",
        "\n",
        "    # move 'wallet' to the first order for formatting\n",
        "    new_order = ['Wallet'] + [col for col in account_a_data.columns if col != 'Wallet']\n",
        "    account_a_data = account_a_data.reindex(columns=new_order)\n",
        "    account_a_data = account_a_data[['Wallet', 'Date', 'Item', 'Amount', 'Category', 'Currency', 'Shared', 'Note']]\n",
        "\n",
        "    return account_a_data\n",
        "\n",
        "def read_account_b(folder_path):\n",
        "  file_path = folder_path + '456.csv' #file name has to be updated\n",
        "  account_b_data = pd.read_csv(file_path)\n",
        "\n",
        "  #adding and formatting the columns\n",
        "  account_b_data.columns = ['Date', 'Item', 'Amount']\n",
        "  account_b_data = account_b_data.assign(\n",
        "        Wallet=\"Account B\",\n",
        "        Category=\"\",\n",
        "        Currency=\"SGD\",\n",
        "        Shared=\"\",\n",
        "        Note=\"\"\n",
        "    )\n",
        "\n",
        "  #ensuring date format is correct\n",
        "  account_b_data['Date'] = pd.to_datetime(account_b_data['Date'], format='%d/%m/%Y')\n",
        "  account_b_data['Date'] = pd.to_datetime(account_b_data['Date']).dt.strftime('%Y-%m-%d')\n",
        "\n",
        "  #move 'wallet' to the first order for easy pasting\n",
        "  new_order = ['Wallet'] + [col for col in account_b_data.columns if col != 'Wallet']\n",
        "  account_b_data = account_b_data.reindex(columns=new_order)\n",
        "  return account_b_data\n",
        "\n",
        "def process_data(data, wallet_name, column_mapping):\n",
        "    data = data.rename(columns=column_mapping)\n",
        "    data['Wallet'] = wallet_name\n",
        "    data['Category'] = \"\"\n",
        "    data['Currency'] = \"TWD\"\n",
        "    data['Shared'] = \"\"\n",
        "    data['Note'] = \"\"\n",
        "\n",
        "    # remove unnecessary strings from the data and convert to integer\n",
        "    data['Amount'] = data['Amount'].apply(lambda x: int(re.sub(r'\\D', '', str(x))))\n",
        "\n",
        "    # filter for required columns\n",
        "    data = data[['Wallet', 'Date', 'Item', 'Amount', 'Category', 'Currency', 'Shared', 'Note']]\n",
        "\n",
        "    # ensure the date column is in the correct format\n",
        "    data['Date'] = pd.to_datetime(data['Date'], format='%Y-%m-%d')\n",
        "    data['Date'] = data['Date'].dt.strftime('%Y-%m-%d')\n",
        "\n",
        "    # filter data for the current year and month\n",
        "    current_date = datetime.now()\n",
        "    current_month = current_date.month\n",
        "    current_year = current_date.year\n",
        "\n",
        "    data['Date'] = pd.to_datetime(data['Date'])\n",
        "    condition = (data['Date'].dt.month == current_month) & (data['Date'].dt.year == current_year)\n",
        "    return data[condition]\n",
        "\n",
        "def read_account_c_debit(folder_path):\n",
        "    file_path = folder_path + '789.xls' #file name has to be updated\n",
        "    account_c_db_data = pd.read_excel(file_path, sheet_name='帳戶明細')\n",
        "    column_mapping = {'帳務日期': 'Date', '備註': 'Item', '金額': 'Amount'}  # 欄位名稱的映射表\n",
        "    return process_data(account_c_db_data, \"Account C Debit\", column_mapping)\n",
        "\n",
        "def read_account_c_credit(folder_path):\n",
        "    file_path = folder_path + '789.xls' #file name has to be updated\n",
        "    account_c_cr_data = pd.read_excel(file_path, sheet_name='信用卡明細')\n",
        "    column_mapping = {'入帳日期': 'Date', '消費明細': 'Item', '金額': 'Amount'}  # 欄位名稱的映射表\n",
        "    return process_data(account_c_cr_data, \"Account C Credit\", column_mapping)"
      ],
      "metadata": {
        "id": "TkfXKQjQCkkC"
      },
      "execution_count": null,
      "outputs": []
    },
    {
      "cell_type": "code",
      "source": [
        "df1 = read_account_a(folder_path)\n",
        "df2 = read_account_b(folder_path)\n",
        "df3 = read_account_c_debit(folder_path)\n",
        "df4 = read_account_c_credit(folder_path)\n",
        "\n",
        "\n",
        "df1 = df1.sort_values('Date', ascending=True)\n",
        "df2 = df2.sort_values('Date', ascending=True)\n",
        "df3 = df3.sort_values('Date', ascending=True)\n",
        "df4 = df4.sort_values('Date', ascending=True)\n",
        "\n",
        "concatenated_df = pd.concat([df1, df2, df3, df4])\n",
        "concatenated_df['Date'] = pd.to_datetime(concatenated_df['Date']).dt.strftime('%Y-%m-%d')\n",
        "\n",
        "\n",
        "concatenated_df"
      ],
      "metadata": {
        "id": "0R9pOaimDIlC"
      },
      "execution_count": null,
      "outputs": []
    },
    {
      "cell_type": "code",
      "source": [
        "worksheet = gc.open(\"[Copy] Example Expense Template\")\n",
        "sheet = worksheet.worksheet(\"Expenses\")\n",
        "\n",
        "# read the existing data in the sheet\n",
        "existing_data = sheet.get_all_values()\n",
        "\n",
        "# find the last filled row\n",
        "last_row_index = len(existing_data) + 1\n",
        "\n",
        "# update the format of concatenated_df\n",
        "data_to_insert = concatenated_df.values.tolist()\n",
        "\n",
        "# add the data to the next empty row\n",
        "sheet.append_rows(data_to_insert, value_input_option='RAW', insert_data_option='INSERT_ROWS', table_range=f'B{last_row_index}')"
      ],
      "metadata": {
        "id": "n9oJUKU5EdoF"
      },
      "execution_count": null,
      "outputs": []
    }
  ]
}